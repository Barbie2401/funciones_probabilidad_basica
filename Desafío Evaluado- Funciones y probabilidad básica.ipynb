{
 "cells": [
  {
   "cell_type": "markdown",
   "id": "430ce1b5",
   "metadata": {},
   "source": [
    "# <center><font color='MediumSeaGreen'> Desafío Evaluado- Funciones y probabilidad básica</font><center>\n",
    "### <center><b> Bárbara Pérez </b><center>"
   ]
  },
  {
   "cell_type": "markdown",
   "id": "fbbf3979",
   "metadata": {},
   "source": [
    "_________________"
   ]
  },
  {
   "cell_type": "markdown",
   "id": "6f61a8a0",
   "metadata": {},
   "source": [
    "## <font color='MediumSeaGreen'>Desafío 1: Generación de funciones</font>"
   ]
  },
  {
   "cell_type": "markdown",
   "id": "b7861524",
   "metadata": {},
   "source": [
    "- Genere funciones para calcular la media y varianza de un vector. Debe cumplir con los siguientes requisitos:\n",
    "    - Ambas funciones deben ingresar un argumento **x** correspondiente al vector.\n",
    "    - Las funciones deben contener <span style='background:gainsboro'><font color='dimgray'>docstrings</font></span> con la documentación asociada a la variable y retornar un valor utilizando <span style='background:gainsboro'><font color='MediumSeaGreen'>returns</font></span>.\n",
    "    - La función de la varianza se debe llamar a la función de la media\n",
    "\n",
    "- Utilice las funciones para reportar la información sobre <span style='background:gainsboro'><font color='dimgray'>goles_favor</font></span>, <span style='background:gainsboro'><font color='dimgray'>goles_contra</font></span> y <span style='background:gainsboro'><font color='dimgray'>puntos</font></span>.\n",
    "\n",
    "**(1 punto)**"
   ]
  },
  {
   "cell_type": "code",
   "execution_count": 1,
   "id": "4add69ad",
   "metadata": {},
   "outputs": [],
   "source": [
    "##CREAR FUNCIONES\n",
    "\n",
    "#Crear función de la media:\n",
    "def media(vector):\n",
    "    \"\"\"\n",
    "    media: retorna el promedio de una serie de numeros\n",
    "        Parameters: \n",
    "             vector (int): serie numerica\n",
    "        Return:\n",
    "            float: promedio de los elementos de la serie\n",
    "    \"\"\"\n",
    "    suma = 0 #Inicia el acumulador\n",
    "    \n",
    "    for i in vector:\n",
    "        suma += i\n",
    "        \n",
    "    promedio = round((suma/len(vector)),2) #Calculo el promedio\n",
    "    return promedio #Retorno el resultado\n",
    "\n",
    "\n",
    "#Crear función de la varianza:\n",
    "def varianza(vector):\n",
    "    \"\"\"\n",
    "    varianza: retorna la varianza de una serie de numeros\n",
    "    Parameters:\n",
    "        vector (int): serie numerica\n",
    "    Return:\n",
    "        float: varianza de los elementos de la serie \n",
    "    \"\"\"\n",
    "    promedio = media(vector) #Obtengo el promedio del vector\n",
    "    suma = 0 #Inicio del acumulador\n",
    "    \n",
    "    for i in vector: #Itera sobre el vector\n",
    "        suma += (i-promedio)**2\n",
    "        \n",
    "    varianza = round((suma/(len(vector)-1)),2) #Obtengo la varianza\n",
    "    return varianza #Retorno el resultado\n",
    "\n",
    "\n",
    "#Crear función de la desviación estandar:\n",
    "def desviacion_estandar(vector):\n",
    "    \"\"\"\n",
    "    desviacion_estandar: retorna la desviacion estandar de una serie de numeros\n",
    "    Parameters:\n",
    "        vector (int): serie numerica\n",
    "    Return:\n",
    "        float: varianza de los elementos de la serie \n",
    "    \n",
    "    \"\"\"\n",
    "    desv_estandar = round((varianza(vector)**(1/2)),2)\n",
    "    return desv_estandar #Retorno el resultado"
   ]
  },
  {
   "cell_type": "code",
   "execution_count": 2,
   "id": "50a34f1d",
   "metadata": {},
   "outputs": [],
   "source": [
    "import pandas as pd\n",
    "import numpy as np"
   ]
  },
  {
   "cell_type": "code",
   "execution_count": 3,
   "id": "2895117f",
   "metadata": {},
   "outputs": [],
   "source": [
    "#Importar archivo y crear DataFrame con su informacion\n",
    "df = pd.read_csv('worldcup2014.csv')"
   ]
  },
  {
   "cell_type": "code",
   "execution_count": 4,
   "id": "2335aa35",
   "metadata": {},
   "outputs": [
    {
     "data": {
      "text/plain": [
       "Index(['team', 'continent', 'group', 'group_pos', 'cantidad_juegos',\n",
       "       'juegos_ganados', 'juegos_empatados', 'juegos_perdidos', 'goles_favor',\n",
       "       'goles_contra', 'goles_diferencia', 'puntos', 'clasificado'],\n",
       "      dtype='object')"
      ]
     },
     "execution_count": 4,
     "metadata": {},
     "output_type": "execute_result"
    }
   ],
   "source": [
    "#Variables del df\n",
    "df.columns"
   ]
  },
  {
   "cell_type": "markdown",
   "id": "8f6b1616",
   "metadata": {},
   "source": [
    "__________"
   ]
  },
  {
   "cell_type": "markdown",
   "id": "6d03a5e6",
   "metadata": {},
   "source": [
    "**Utilice las funciones para reportar la información sobre goles_favor**"
   ]
  },
  {
   "cell_type": "code",
   "execution_count": 5,
   "id": "82771766",
   "metadata": {},
   "outputs": [],
   "source": [
    "#Crear variable con datos del vector goles a favor\n",
    "goles_favor = df['goles_favor']"
   ]
  },
  {
   "cell_type": "code",
   "execution_count": 6,
   "id": "1155593f",
   "metadata": {},
   "outputs": [
    {
     "name": "stdout",
     "output_type": "stream",
     "text": [
      "Reporte la información sobre goles_favor:\n",
      "\n",
      "-La media de 'goles_favor' es: 4.25\n",
      "-La varianza de 'goles_favor' es: 5.35\n",
      "-La desviación estandar de 'goles_favor' es: 2.31\n"
     ]
    }
   ],
   "source": [
    "#IMPRIMIR LOS RESULTADOS\n",
    "print(\"Reporte la información sobre goles_favor:\\n\")\n",
    "\n",
    "#Media del vector\n",
    "print(\"-La media de 'goles_favor' es:\", media(goles_favor))\n",
    "\n",
    "#Varianza del vector\n",
    "print(\"-La varianza de 'goles_favor' es:\",varianza(goles_favor))\n",
    "\n",
    "#Desviacion estandar del vector\n",
    "print(\"-La desviación estandar de 'goles_favor' es:\",desviacion_estandar(goles_favor))"
   ]
  },
  {
   "cell_type": "markdown",
   "id": "dbcb45ab",
   "metadata": {},
   "source": [
    "_____"
   ]
  },
  {
   "cell_type": "markdown",
   "id": "7e6c0631",
   "metadata": {},
   "source": [
    "**Utilice las funciones para reportar la información sobre goles_contra.**"
   ]
  },
  {
   "cell_type": "code",
   "execution_count": 7,
   "id": "e5e3b213",
   "metadata": {},
   "outputs": [],
   "source": [
    "#Crear variable con datos del vector goles en contra \n",
    "goles_contra = df['goles_contra']"
   ]
  },
  {
   "cell_type": "code",
   "execution_count": 8,
   "id": "2a1032c6",
   "metadata": {},
   "outputs": [
    {
     "name": "stdout",
     "output_type": "stream",
     "text": [
      "Reporte la información sobre goles_contra:\n",
      "\n",
      "-La media de 'goles_contra' es: 4.25\n",
      "-La varianza de 'goles_contra' es: 4.97\n",
      "-La desviación estandar de 'goles_contra' es: 2.23\n"
     ]
    }
   ],
   "source": [
    "#IMPRIMIR LOS RESULTADOS\n",
    "print(\"Reporte la información sobre goles_contra:\\n\")\n",
    "\n",
    "#Media del vector\n",
    "print(\"-La media de 'goles_contra' es:\", media(goles_contra))\n",
    "\n",
    "#Varianza del vector\n",
    "print(\"-La varianza de 'goles_contra' es:\",varianza(goles_contra))\n",
    "\n",
    "#Desviacion estandar del vector\n",
    "print(\"-La desviación estandar de 'goles_contra' es:\",desviacion_estandar(goles_contra))"
   ]
  },
  {
   "cell_type": "markdown",
   "id": "0e677435",
   "metadata": {},
   "source": [
    "_________"
   ]
  },
  {
   "cell_type": "markdown",
   "id": "2d160df3",
   "metadata": {},
   "source": [
    "**Utilice las funciones para reportar la información sobre puntos**"
   ]
  },
  {
   "cell_type": "code",
   "execution_count": 9,
   "id": "6a1338a5",
   "metadata": {},
   "outputs": [],
   "source": [
    "#Crear variable con datos del vector puntos\n",
    "puntos = df['puntos']"
   ]
  },
  {
   "cell_type": "code",
   "execution_count": 10,
   "id": "b7b672cd",
   "metadata": {},
   "outputs": [
    {
     "name": "stdout",
     "output_type": "stream",
     "text": [
      "Reporte la información sobre puntos:\n",
      "\n",
      "-La media de 'puntos' es: 4.22\n",
      "-La varianza de 'puntos' es: 8.31\n",
      "-La desviación estandar de 'puntos' es: 2.88\n"
     ]
    }
   ],
   "source": [
    "#IMPRIMIR LOS RESULTADOS\n",
    "print(\"Reporte la información sobre puntos:\\n\")\n",
    "\n",
    "#Media del vector\n",
    "print(\"-La media de 'puntos' es:\", media(puntos))\n",
    "\n",
    "#Varianza del vector\n",
    "print(\"-La varianza de 'puntos' es:\",varianza(puntos))\n",
    "\n",
    "#Desviacion estandar del vector\n",
    "print(\"-La desviación estandar de 'puntos' es:\",desviacion_estandar(puntos))"
   ]
  },
  {
   "cell_type": "markdown",
   "id": "75cb75c0",
   "metadata": {},
   "source": [
    "___________"
   ]
  },
  {
   "cell_type": "markdown",
   "id": "42d5b033",
   "metadata": {},
   "source": [
    "## <font color='MediumSeaGreen'>Desafío 2:</font>"
   ]
  },
  {
   "cell_type": "markdown",
   "id": "f434fa82",
   "metadata": {},
   "source": [
    "Utilizando el método <span style='background:gainsboro'><font color='dimgray'>groupby</font></span> de la clase <span style='background:gainsboro'><font color='dimgray'>DataFrame</font></span>, en conjunto con la función <span style='background:gainsboro'><font color='dimgray'>.agg</font></span> de pandas, calcule la media, la varianza y desviación estándar de la cantidad de goles a favor, en contra y de la cantidad de puntos por continente.\n",
    "\n",
    "- ¿En qué continente se observa una mayor cantidad de goles a favor?\n",
    "\n",
    "- ¿En qué continente se observa una mayor cantidad de goles en contra?\n",
    "\n",
    "- ¿En qué continente se observa una mayor cantidad de puntos en promedio?\n",
    "\n",
    "**(2 puntos)**\n"
   ]
  },
  {
   "cell_type": "code",
   "execution_count": 11,
   "id": "36164200",
   "metadata": {},
   "outputs": [
    {
     "name": "stdout",
     "output_type": "stream",
     "text": [
      "GOLES A FAVOR\n",
      "\n",
      "               media  varianza  desviacion_estandar\n",
      "continent                                         \n",
      "africa         3.60      3.30                 1.82\n",
      "asia           2.25      0.92                 0.96\n",
      "europe         4.77      6.86                 2.62\n",
      "northamerica   3.25      2.25                 1.50\n",
      "southamerica   5.67      4.67                 2.16\n",
      "\n",
      "----------------------------------------------------\n",
      "\n",
      "GOLES EN CONTRA\n",
      "\n",
      "               media  varianza  desviacion_estandar\n",
      "continent                                         \n",
      "africa         5.60      4.80                 2.19\n",
      "asia           6.25      4.25                 2.06\n",
      "europe         4.00      3.83                 1.96\n",
      "northamerica   3.50     11.00                 3.32\n",
      "southamerica   2.83      0.57                 0.75\n",
      "\n",
      "----------------------------------------------------\n",
      "\n",
      "PUNTOS\n",
      "\n",
      "               media  varianza  desviacion_estandar\n",
      "continent                                         \n",
      "africa         2.40      3.30                 1.82\n",
      "asia           0.75      0.25                 0.50\n",
      "europe         4.69      6.90                 2.63\n",
      "northamerica   4.50     11.00                 3.32\n",
      "southamerica   6.83      3.77                 1.94\n"
     ]
    }
   ],
   "source": [
    "#Definirlos en una variable\n",
    "gol_favor = df.groupby(['continent'])['goles_favor'].agg([media, varianza, desviacion_estandar])\n",
    "gol_contra = df.groupby(['continent'])['goles_contra'].agg([media, varianza, desviacion_estandar])\n",
    "puntos_ = df.groupby(['continent'])['puntos'].agg([media, varianza, desviacion_estandar])\n",
    "\n",
    "#Imprimir toda la información\n",
    "print(f\"GOLES A FAVOR\\n\\n {gol_favor}\\n\")\n",
    "print(\"----------------------------------------------------\")\n",
    "print(f\"\\nGOLES EN CONTRA\\n\\n {gol_contra}\\n\")\n",
    "print(\"----------------------------------------------------\")\n",
    "print(f\"\\nPUNTOS\\n\\n {puntos_}\")\n"
   ]
  },
  {
   "cell_type": "markdown",
   "id": "e6955dd9",
   "metadata": {},
   "source": [
    "- **¿En qué continente se observa una mayor cantidad de goles a favor?**\n",
    "\n",
    "Se observan mayor cantidad de goles a favor en el continente **SurAmericano**"
   ]
  },
  {
   "cell_type": "markdown",
   "id": "202982fd",
   "metadata": {},
   "source": [
    "- **¿En qué continente se observa una mayor cantidad de goles en contra?**\n",
    "\n",
    "Se observa una mayor cantidad de goles en contra en el **continente Asiatico**"
   ]
  },
  {
   "cell_type": "markdown",
   "id": "9ed2c1df",
   "metadata": {},
   "source": [
    "- **¿En qué continente se observa una mayor cantidad de puntos en promedio?**\n",
    "\n",
    "Se observa una mayor cantidad de puntos en promedio en el **continente SurAmericano**"
   ]
  },
  {
   "cell_type": "markdown",
   "id": "905cb2e1",
   "metadata": {},
   "source": [
    "___________"
   ]
  },
  {
   "cell_type": "markdown",
   "id": "69666d4f",
   "metadata": {},
   "source": [
    "## <font color='MediumSeaGreen'>Desafío 3: Simulaciones</font>"
   ]
  },
  {
   "cell_type": "markdown",
   "id": "d78e6877",
   "metadata": {},
   "source": [
    "- Genere una función <span style='background:gainsboro'><font color='dimgray'>generate_pet</font></span> que devuelva de forma aleatoria un string <span style='background:gainsboro'><font color='FireBrick'>'perro'</font></span> o <span style='background:gainsboro'><font color='FireBrick'>'gato'</font></span> un número **n** de veces. Ejecútela un par de veces.\n",
    "\n",
    "**Tip:** Puede utilizar la función <span style='background:gainsboro'><font color='dimgray'>np.random.choice</font></span> para retornar elementos al azar.\n",
    "\n",
    "- Aplique la función <span style='background:gainsboro'><font color='dimgray'>generate_pet</font></span> para generar 20 muestras.\n",
    "\n",
    "- ¿Cuál es la probabilidad de elegir un perro al azar? ¿Y un gato?\n",
    "\n",
    "- Agregue <span style='background:gainsboro'><font color='dimgray'>np.random.seed(2)</font></span> al inicio del chunk. ¿Qué diferencia hay cuando se ejecuta la función varias veces luego de fijar la semilla?.\n",
    "\n",
    "**(3 puntos)**"
   ]
  },
  {
   "cell_type": "code",
   "execution_count": 12,
   "id": "2665f01d",
   "metadata": {},
   "outputs": [],
   "source": [
    "#Importar numpy\n",
    "import numpy as np \n",
    "\n",
    "#Crear función generate_pet()\n",
    "def generate_pet():\n",
    "    \"\"\"\n",
    "        generate_pet: retorna un string aleatorio cuyos valores pueden ser 'perro' o 'gato'.\n",
    "        Parameters: no tiene\n",
    "        Return: (str): 'perro' o 'gato'        \n",
    "    \"\"\"\n",
    "    \n",
    "    return np.random.choice(['perro', 'gato']) #retorno el resultado"
   ]
  },
  {
   "cell_type": "code",
   "execution_count": 13,
   "id": "28c8841b",
   "metadata": {},
   "outputs": [
    {
     "data": {
      "text/plain": [
       "'perro'"
      ]
     },
     "execution_count": 13,
     "metadata": {},
     "output_type": "execute_result"
    }
   ],
   "source": [
    "#Probar la función creada\n",
    "generate_pet()"
   ]
  },
  {
   "cell_type": "code",
   "execution_count": 14,
   "id": "d5f5c554",
   "metadata": {},
   "outputs": [],
   "source": [
    "#Crear función para crear lista mientras con gatos y perros de manera aleatorea\n",
    "def obtiene_mascota(cantidad, semilla = 0):\n",
    "    es_perro = 0\n",
    "    es_gato = 0\n",
    "    lista = []\n",
    "    if semilla != 0:\n",
    "        np.random.seed(semilla)\n",
    "    for i in range(cantidad):\n",
    "        mascota = generate_pet()\n",
    "        lista.append(mascota)\n",
    "        if mascota == 'perro':\n",
    "            es_perro += 1\n",
    "        else:\n",
    "            es_gato += 1\n",
    "            \n",
    "    print(f\"perros: {es_perro}, gatos: {es_gato}\\n\", lista)\n",
    "    return es_perro, es_gato, lista \n",
    "    "
   ]
  },
  {
   "cell_type": "code",
   "execution_count": 15,
   "id": "18e3f97e",
   "metadata": {
    "scrolled": false
   },
   "outputs": [
    {
     "name": "stdout",
     "output_type": "stream",
     "text": [
      "perros: 10, gatos: 10\n",
      " ['perro', 'gato', 'gato', 'perro', 'perro', 'gato', 'gato', 'perro', 'gato', 'gato', 'perro', 'perro', 'gato', 'perro', 'perro', 'gato', 'perro', 'perro', 'gato', 'gato']\n"
     ]
    }
   ],
   "source": [
    "#Aplicar la función generate_pet para generar 20 muestras.\n",
    "es_perro, es_gato, lista = obtiene_mascota(20)"
   ]
  },
  {
   "cell_type": "markdown",
   "id": "1350c562",
   "metadata": {},
   "source": [
    "**¿Cuál es la probabilidad de elegir un perro al azar? ¿Y un gato?**\n"
   ]
  },
  {
   "cell_type": "code",
   "execution_count": 16,
   "id": "ef3a2642",
   "metadata": {},
   "outputs": [
    {
     "name": "stdout",
     "output_type": "stream",
     "text": [
      "La probabilidad de elegir perro es de un 50.0 % \n",
      "La probabilidad de elegir gato es de un 50.0 % \n"
     ]
    }
   ],
   "source": [
    "#Crear variables para entregar porcentajes de la probabilidad de elegir un perro o un gato al azar\n",
    "perro_azar = round((es_perro/len(lista)),2)\n",
    "gato_azar = round((es_gato/len(lista)),2)\n",
    "\n",
    "print(f\"La probabilidad de elegir perro es de un {perro_azar*100} % \")\n",
    "print(f\"La probabilidad de elegir gato es de un {gato_azar*100} % \")"
   ]
  },
  {
   "cell_type": "markdown",
   "id": "6a171521",
   "metadata": {},
   "source": [
    "Según la lista creada anteriormente tiene un :\n",
    "\n",
    "- 50% de probabilidades de elegir un perro al azar.\n",
    "\n",
    "- 50% de probabilidades de elegir un gato al azar.\n",
    "\n",
    "Sin embargo esta va a variar por el generador al azar \"random.choice\". Siendo lo más probable que cuando se vuelva a correr el chunk cambie su porcentaje."
   ]
  },
  {
   "cell_type": "markdown",
   "id": "630d0e6d",
   "metadata": {},
   "source": [
    "_______"
   ]
  },
  {
   "cell_type": "code",
   "execution_count": 17,
   "id": "ebf32390",
   "metadata": {},
   "outputs": [],
   "source": [
    "#Agreguar np.random.seed(2) al inicio del chunk.\n",
    "def obtiene_mascota2(cantidad, semilla = 2):\n",
    "    es_perro = 0\n",
    "    es_gato = 0\n",
    "    lista = []\n",
    "    if semilla != 0:\n",
    "        np.random.seed(semilla)\n",
    "    for i in range(cantidad):\n",
    "        mascota = generate_pet()\n",
    "        lista.append(mascota)\n",
    "        if mascota == 'perro':\n",
    "            es_perro += 1\n",
    "        else:\n",
    "            es_gato += 1\n",
    "            \n",
    "    print(f\"perros: {es_perro}, gatos: {es_gato}\\n\", lista)\n",
    "    return es_perro, es_gato, lista \n",
    "    "
   ]
  },
  {
   "cell_type": "code",
   "execution_count": 18,
   "id": "e6b48d02",
   "metadata": {},
   "outputs": [
    {
     "name": "stdout",
     "output_type": "stream",
     "text": [
      "perros: 8, gatos: 12\n",
      " ['perro', 'gato', 'gato', 'perro', 'perro', 'gato', 'perro', 'gato', 'perro', 'gato', 'perro', 'gato', 'gato', 'gato', 'gato', 'gato', 'gato', 'gato', 'perro', 'perro']\n"
     ]
    }
   ],
   "source": [
    "#Aplicar la función generate_pet para generar 20 muestras.\n",
    "es_perro, es_gato, lista = obtiene_mascota2(20)"
   ]
  },
  {
   "cell_type": "code",
   "execution_count": 19,
   "id": "536f4097",
   "metadata": {},
   "outputs": [
    {
     "name": "stdout",
     "output_type": "stream",
     "text": [
      "La probabilidad de elegir perro es de un 40.0 % \n",
      "La probabilidad de elegir gato es de un 60.0 % \n"
     ]
    }
   ],
   "source": [
    "#Crear variables para entregar porcentajes de la probabilidad de elegir un perro o un gato al azar\n",
    "perro_azar = round((es_perro/len(lista)),2)\n",
    "gato_azar = round((es_gato/len(lista)),2)\n",
    "\n",
    "print(f\"La probabilidad de elegir perro es de un {perro_azar*100} % \")\n",
    "print(f\"La probabilidad de elegir gato es de un {gato_azar*100} % \")"
   ]
  },
  {
   "cell_type": "markdown",
   "id": "1b2a04c3",
   "metadata": {},
   "source": [
    "**¿Qué diferencia hay cuando se ejecuta la función varias veces luego de fijar la semilla?.**"
   ]
  },
  {
   "cell_type": "markdown",
   "id": "65242dd5",
   "metadata": {},
   "source": [
    "Cuando se fija la semilla, tambien se fija el resultado obtenido, por lo que el resultado no va a variar segun las veces que el usuario vuelva a correr el chunk siempre tendrá un resultado repetible. \n",
    "\n",
    "La semilla nos permitirá probar codigos con resultados repetibles esperados. \n",
    "\n",
    "En este caso se espera que se mantenga el siguiente resultado:\n",
    "- La probabilidad de elegir perro es de un 40.0 % \n",
    "\n",
    "- La probabilidad de elegir gato es de un 60.0 % "
   ]
  },
  {
   "cell_type": "markdown",
   "id": "1624d0b3",
   "metadata": {},
   "source": [
    "__________"
   ]
  },
  {
   "cell_type": "markdown",
   "id": "a914f989",
   "metadata": {},
   "source": [
    "## <font color='MediumSeaGreen'>Desafío 4: Función simuladora</font>"
   ]
  },
  {
   "cell_type": "markdown",
   "id": "ed3bd52d",
   "metadata": {},
   "source": [
    "- Genere una función llamada <span style='background:gainsboro'><font color='dimgray'>simulate_pets_prob</font></span> que tome como argumento un número finito de simulaciones a generar.\n",
    "\n",
    "- La función debe simular dos situaciones <span style='background:gainsboro'><font color='dimgray'>young_pet</font></span> y <span style='background:gainsboro'><font color='dimgray'>old_pet</font></span>, y contar la ocurrencia de los siguientes casos:\n",
    "\n",
    "    - De las dos mascotas simuladas (young y old), contar las ocasiones donde por lo menos una de las mascotas sea un perro.\n",
    "    \n",
    "    - De las dos mascotas simuladas, contar las ocasiones donde <span style='background:gainsboro'><font color='dimgray'>old_pets</font></span> sea un perro.\n",
    "    \n",
    "    - De las dos mascotas simuladas, contar las ocasiones donde los dos sean perros.\n",
    "    \n",
    "- El método debe tener una semilla pseudoaleatoria de 1.\n",
    "\n",
    "- El output de la función debe entregarse en términos de Probabilidad.\n",
    "\n",
    "- De los tres escenarios, ¿Cuál es el menos probable? ¿Cuál es el más probable? ¿Por qué?\n",
    "\n",
    "**(4 puntos)**"
   ]
  },
  {
   "cell_type": "code",
   "execution_count": 20,
   "id": "6afe25f4",
   "metadata": {},
   "outputs": [],
   "source": [
    "def simulate_pets_prob(cantidad, semilla = 1):\n",
    "    \n",
    "    es_perro = 0\n",
    "    es_gato = 0\n",
    "   \n",
    "    \n",
    "    young_pet = []\n",
    "    \n",
    "    if semilla == 1:\n",
    "        np.random.seed(semilla)\n",
    "    for i in range(cantidad):\n",
    "        mascota = generate_pet()\n",
    "        young_pet.append(mascota)\n",
    "        \n",
    "        if mascota == 'perro': \n",
    "            es_perro += 1\n",
    "        else:\n",
    "            es_gato += 1\n",
    "          \n",
    "    old_pets = []\n",
    "    if semilla != 1:\n",
    "        np.random.seed(semilla)\n",
    "    for i in range(cantidad):\n",
    "        mascota = generate_pet()\n",
    "        old_pets.append(mascota)\n",
    "        \n",
    "        if mascota == 'perro': \n",
    "            es_perro += 1\n",
    "        else:\n",
    "            es_gato += 1 \n",
    "    \n",
    "    #contar las ocasiones donde por lo menos una de las mascotas sea un perro\n",
    "    perro_1 = 0\n",
    "    for mascota in young_pet or old_pets:    \n",
    "        if mascota == 'perro':\n",
    "            perro_1 += 1\n",
    "        \n",
    "    #contar las ocasiones donde old_pets sea un perro.\n",
    "    perro_2 = 0\n",
    "    for mascota in old_pets:    \n",
    "        if mascota == 'perro':\n",
    "            perro_2 += 1\n",
    "    \n",
    "    #contar las ocasiones donde los dos sean perros.\n",
    "    perro_3 = 0\n",
    "    for mascota in young_pet:    \n",
    "        if mascota == 'perro':\n",
    "            perro_3 += 1  \n",
    "            \n",
    "    perro_4 = perro_3 + perro_2\n",
    "    \n",
    "    \n",
    "    return perro_1, perro_2, perro_4, young_pet, old_pets"
   ]
  },
  {
   "cell_type": "code",
   "execution_count": 21,
   "id": "c56893eb",
   "metadata": {},
   "outputs": [],
   "source": [
    "perro_1, perro_2, perro_4, young_pet, old_pets = simulate_pets_prob(400)"
   ]
  },
  {
   "cell_type": "code",
   "execution_count": 22,
   "id": "b93a3219",
   "metadata": {},
   "outputs": [
    {
     "name": "stdout",
     "output_type": "stream",
     "text": [
      "La probabilidad que ocurra el escenario 1 es de: 25.0%\n"
     ]
    }
   ],
   "source": [
    "escenario_1 = round((perro_1/len(young_pet + old_pets)),2)\n",
    "print (f\"La probabilidad que ocurra el escenario 1 es de: {escenario_1*100}%\")"
   ]
  },
  {
   "cell_type": "code",
   "execution_count": 23,
   "id": "b85fb6b1",
   "metadata": {},
   "outputs": [
    {
     "name": "stdout",
     "output_type": "stream",
     "text": [
      "La probabilidad que ocurra el escenario 1 es de: 54.0%\n"
     ]
    }
   ],
   "source": [
    "escenario_2 = round((perro_2/len(old_pets)),2)\n",
    "print (f\"La probabilidad que ocurra el escenario 1 es de: {escenario_2*100}%\")"
   ]
  },
  {
   "cell_type": "code",
   "execution_count": 24,
   "id": "31bbf22e",
   "metadata": {},
   "outputs": [
    {
     "name": "stdout",
     "output_type": "stream",
     "text": [
      "La probabilidad que ocurra el escenario 1 es de: 52.0%\n"
     ]
    }
   ],
   "source": [
    "escenario_3 = round((perro_4/len(young_pet + old_pets)),2)\n",
    "print (f\"La probabilidad que ocurra el escenario 1 es de: {escenario_3*100}%\")"
   ]
  },
  {
   "cell_type": "markdown",
   "id": "1dcf0941",
   "metadata": {},
   "source": [
    "**De los tres escenarios:** \n",
    "\n",
    "**¿Cuál es el menos probable?**"
   ]
  },
  {
   "cell_type": "markdown",
   "id": "355041c4",
   "metadata": {},
   "source": [
    "El escenario menos probable es el escenario 1 (**al menos una de las mascotas sea un perro**). Esto se debe a que en la lista **young_pet** tiene una probabilidad de un 25% tener perro."
   ]
  },
  {
   "cell_type": "markdown",
   "id": "da5b1e2e",
   "metadata": {},
   "source": [
    "**¿Cuál es el más probable? ¿Por qué?**"
   ]
  },
  {
   "cell_type": "markdown",
   "id": "d612374f",
   "metadata": {},
   "source": [
    "El escenario más probable es el escenario 2 (**ocasiones donde old_pets sea un perro**), ya que en la lista **old_pet** tiene una probabilidad de 54%, siendo la probabilidad más altá entre los tres escenarios disponibles."
   ]
  },
  {
   "cell_type": "markdown",
   "id": "d957a73d",
   "metadata": {},
   "source": [
    "_________"
   ]
  }
 ],
 "metadata": {
  "kernelspec": {
   "display_name": "Python 3",
   "language": "python",
   "name": "python3"
  },
  "language_info": {
   "codemirror_mode": {
    "name": "ipython",
    "version": 3
   },
   "file_extension": ".py",
   "mimetype": "text/x-python",
   "name": "python",
   "nbconvert_exporter": "python",
   "pygments_lexer": "ipython3",
   "version": "3.9.12"
  }
 },
 "nbformat": 4,
 "nbformat_minor": 5
}
